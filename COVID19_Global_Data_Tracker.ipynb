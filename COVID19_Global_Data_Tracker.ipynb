{
 "cells": [
  {
   "cell_type": "markdown",
   "id": "9f10c7d8",
   "metadata": {},
   "source": [
    "\n",
    "# 🦠 COVID-19 Global Data Tracker\n",
    "\n",
    "This notebook analyzes global COVID-19 trends including cases, deaths, and vaccinations. It uses real-world data to generate insights and visualizations.\n"
   ]
  },
  {
   "cell_type": "markdown",
   "id": "a21b7c3e",
   "metadata": {},
   "source": [
    "\n",
    "## 1️⃣ Data Collection\n",
    "\n",
    "Download the dataset from [Our World in Data](https://github.com/owid/covid-19-data/tree/master/public/data).\n",
    "Save the file as `owid-covid-data.csv` in your working directory.\n"
   ]
  },
  {
   "cell_type": "code",
   "execution_count": null,
   "id": "70febdf0",
   "metadata": {},
   "outputs": [],
   "source": [
    "\n",
    "import pandas as pd\n",
    "import matplotlib.pyplot as plt\n",
    "import seaborn as sns\n",
    "\n",
    "# Load the dataset\n",
    "df = pd.read_csv(\"owid-covid-data.csv\")\n",
    "df.head()\n"
   ]
  },
  {
   "cell_type": "markdown",
   "id": "001b05e2",
   "metadata": {},
   "source": [
    "\n",
    "## 2️⃣ Data Exploration\n",
    "\n",
    "Preview the dataset and check for missing values.\n"
   ]
  },
  {
   "cell_type": "code",
   "execution_count": null,
   "id": "60c76fa1",
   "metadata": {},
   "outputs": [],
   "source": [
    "\n",
    "print(df.columns)\n",
    "print(df.isnull().sum())\n"
   ]
  },
  {
   "cell_type": "markdown",
   "id": "4dd80241",
   "metadata": {},
   "source": [
    "\n",
    "## 3️⃣ Data Cleaning\n",
    "\n",
    "Filter countries of interest and handle missing values.\n"
   ]
  },
  {
   "cell_type": "code",
   "execution_count": null,
   "id": "4159e580",
   "metadata": {},
   "outputs": [],
   "source": [
    "\n",
    "countries = [\"Kenya\", \"United States\", \"India\"]\n",
    "df = df[df['location'].isin(countries)]\n",
    "df['date'] = pd.to_datetime(df['date'])\n",
    "df = df.fillna(0)\n",
    "df.head()\n"
   ]
  },
  {
   "cell_type": "markdown",
   "id": "d7c307b6",
   "metadata": {},
   "source": [
    "\n",
    "## 4️⃣ Exploratory Data Analysis (EDA)\n",
    "\n",
    "Visualize total cases and deaths over time.\n"
   ]
  },
  {
   "cell_type": "code",
   "execution_count": null,
   "id": "6ab3ea63",
   "metadata": {},
   "outputs": [],
   "source": [
    "\n",
    "plt.figure(figsize=(12,6))\n",
    "for country in countries:\n",
    "    country_data = df[df['location'] == country]\n",
    "    plt.plot(country_data['date'], country_data['total_cases'], label=country)\n",
    "plt.title(\"Total COVID-19 Cases Over Time\")\n",
    "plt.xlabel(\"Date\")\n",
    "plt.ylabel(\"Total Cases\")\n",
    "plt.legend()\n",
    "plt.show()\n"
   ]
  },
  {
   "cell_type": "code",
   "execution_count": null,
   "id": "54b4c5e1",
   "metadata": {},
   "outputs": [],
   "source": [
    "\n",
    "plt.figure(figsize=(12,6))\n",
    "for country in countries:\n",
    "    country_data = df[df['location'] == country]\n",
    "    plt.plot(country_data['date'], country_data['total_deaths'], label=country)\n",
    "plt.title(\"Total COVID-19 Deaths Over Time\")\n",
    "plt.xlabel(\"Date\")\n",
    "plt.ylabel(\"Total Deaths\")\n",
    "plt.legend()\n",
    "plt.show()\n"
   ]
  },
  {
   "cell_type": "markdown",
   "id": "22255559",
   "metadata": {},
   "source": [
    "\n",
    "## 5️⃣ Visualizing Vaccination Progress\n",
    "\n",
    "Compare cumulative vaccinations over time.\n"
   ]
  },
  {
   "cell_type": "code",
   "execution_count": null,
   "id": "3370836b",
   "metadata": {},
   "outputs": [],
   "source": [
    "\n",
    "plt.figure(figsize=(12,6))\n",
    "for country in countries:\n",
    "    country_data = df[df['location'] == country]\n",
    "    plt.plot(country_data['date'], country_data['total_vaccinations'], label=country)\n",
    "plt.title(\"Total Vaccinations Over Time\")\n",
    "plt.xlabel(\"Date\")\n",
    "plt.ylabel(\"Total Vaccinations\")\n",
    "plt.legend()\n",
    "plt.show()\n"
   ]
  },
  {
   "cell_type": "markdown",
   "id": "c6c82d51",
   "metadata": {},
   "source": [
    "\n",
    "## 6️⃣ Optional: Choropleth Map\n",
    "\n",
    "Use Plotly Express to visualize global case density.\n"
   ]
  },
  {
   "cell_type": "code",
   "execution_count": null,
   "id": "e5949121",
   "metadata": {},
   "outputs": [],
   "source": [
    "\n",
    "import plotly.express as px\n",
    "\n",
    "latest_date = df['date'].max()\n",
    "latest_df = df[df['date'] == latest_date]\n",
    "fig = px.choropleth(latest_df,\n",
    "                    locations=\"iso_code\",\n",
    "                    color=\"total_cases\",\n",
    "                    hover_name=\"location\",\n",
    "                    title=\"Global COVID-19 Cases\",\n",
    "                    color_continuous_scale=\"Viridis\")\n",
    "fig.show()\n"
   ]
  },
  {
   "cell_type": "markdown",
   "id": "a66f68a2",
   "metadata": {},
   "source": [
    "\n",
    "## 7️⃣ Insights & Reporting\n",
    "\n",
    "- India had the highest total cases among selected countries.\n",
    "- Vaccination rollout was fastest in the United States.\n",
    "- Death rates varied significantly across regions.\n",
    "\n",
    "Use markdown cells to summarize your findings and add narrative explanations.\n"
   ]
  }
 ],
 "metadata": {},
 "nbformat": 4,
 "nbformat_minor": 5
}
